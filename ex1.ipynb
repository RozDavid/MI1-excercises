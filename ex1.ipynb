{
 "cells": [
  {
   "cell_type": "code",
   "execution_count": 26,
   "metadata": {
    "collapsed": true
   },
   "outputs": [],
   "source": [
    "import numpy as np\n",
    "import matplotlib.pyplot as plt\n",
    "from scipy.stats import multivariate_normal\n",
    "from scipy.interpolate import interp2d\n",
    "import matplotlib.patches as mpatches"
   ]
  },
  {
   "cell_type": "code",
   "execution_count": 11,
   "metadata": {},
   "outputs": [],
   "source": [
    "mean = 0\n",
    "std = 1\n",
    "x_values = np.linspace(-8, 8, 100)\n",
    "y_values = (1/(std * np.sqrt(2*np.pi))) * np.exp(-0.5 * pow((x_values-mean)/std, 2))\n",
    "plt.plot(x_values, y_values)\n",
    "plt.show()"
   ]
  },
  {
   "cell_type": "code",
   "execution_count": 25,
   "metadata": {},
   "outputs": [],
   "source": [
    "mean = [0, 0]\n",
    "cov = [[1, 0], [0, 1]]  # diagonal covariance\n",
    "\n",
    "x, y = np.mgrid[-8:8:.01, -8:8:.01]\n",
    "pos = np.empty(x.shape + (2,))\n",
    "pos[:, :, 0] = x\n",
    "pos[:, :, 1] = y\n",
    "rv = multivariate_normal([0, 0], [[1, 0], [0, 1]])\n",
    "plt.contourf(x, y, rv.pdf(pos))\n",
    "plt.show()"
   ]
  },
  {
   "cell_type": "code",
   "execution_count": 23,
   "metadata": {},
   "outputs": [],
   "source": [
    "expdat = np.genfromtxt(fname='resources/ex1/applesOranges.csv', delimiter=',',\n",
    "                       dtype=np.float, skip_header=1)\n",
    "x = expdat[:, :2]\n",
    "y = expdat[:, -1]\n",
    "plt.scatter(x[y == 0, 0], x[y == 0, 1], marker='.', c='r', label='apples')\n",
    "plt.scatter(x[y == 1, 0], x[y == 1, 1], marker='.', c='b', label='oranges')\n",
    "lgd = plt.legend()\n",
    "plt.xlabel('$x_1$')\n",
    "plt.ylabel('$x_2$', rotation='horizontal')\n",
    "plt.title(\"apples and oranges\")\n",
    "plt.show()\n"
   ]
  },
  {
   "cell_type": "code",
   "execution_count": 29,
   "metadata": {
    "collapsed": false
   },
   "outputs": [
    {
     "ename": "IndexError",
     "evalue": "too many indices for array",
     "traceback": [
      "\u001b[1;31m---------------------------------------------------------------------------\u001b[0m",
      "\u001b[1;31mIndexError\u001b[0m                                Traceback (most recent call last)",
      "\u001b[1;32m<ipython-input-29-0b0605c520be>\u001b[0m in \u001b[0;36m<module>\u001b[1;34m\u001b[0m\n\u001b[0;32m      5\u001b[0m \u001b[1;33m\u001b[0m\u001b[0m\n\u001b[0;32m      6\u001b[0m \u001b[1;33m\u001b[0m\u001b[0m\n\u001b[1;32m----> 7\u001b[1;33m \u001b[0mhist_0\u001b[0m\u001b[1;33m,\u001b[0m \u001b[0mbin_edges_x_0\u001b[0m\u001b[1;33m,\u001b[0m \u001b[0mbin_edges_y_0\u001b[0m \u001b[1;33m=\u001b[0m \u001b[0mnp\u001b[0m\u001b[1;33m.\u001b[0m\u001b[0mhistogram2d\u001b[0m\u001b[1;33m(\u001b[0m\u001b[0mx\u001b[0m\u001b[1;33m[\u001b[0m\u001b[0my\u001b[0m\u001b[1;33m==\u001b[0m\u001b[1;36m0\u001b[0m\u001b[1;33m,\u001b[0m\u001b[1;36m0\u001b[0m\u001b[1;33m]\u001b[0m\u001b[1;33m,\u001b[0m \u001b[0mx\u001b[0m\u001b[1;33m[\u001b[0m\u001b[0my\u001b[0m\u001b[1;33m==\u001b[0m\u001b[1;36m0\u001b[0m\u001b[1;33m,\u001b[0m\u001b[1;36m1\u001b[0m\u001b[1;33m]\u001b[0m\u001b[1;33m,\u001b[0m \u001b[0mbins\u001b[0m\u001b[1;33m=\u001b[0m\u001b[1;36m10\u001b[0m\u001b[1;33m,\u001b[0m \u001b[0mdensity\u001b[0m\u001b[1;33m=\u001b[0m\u001b[1;32mTrue\u001b[0m\u001b[1;33m)\u001b[0m\u001b[1;33m\u001b[0m\u001b[1;33m\u001b[0m\u001b[0m\n\u001b[0m\u001b[0;32m      8\u001b[0m \u001b[0mhist_1\u001b[0m\u001b[1;33m,\u001b[0m \u001b[0mbin_edges_x_1\u001b[0m\u001b[1;33m,\u001b[0m \u001b[0mbin_edges_y_1\u001b[0m \u001b[1;33m=\u001b[0m \u001b[0mnp\u001b[0m\u001b[1;33m.\u001b[0m\u001b[0mhistogram2d\u001b[0m\u001b[1;33m(\u001b[0m\u001b[0mx\u001b[0m\u001b[1;33m[\u001b[0m\u001b[0my\u001b[0m\u001b[1;33m==\u001b[0m\u001b[1;36m1\u001b[0m\u001b[1;33m,\u001b[0m\u001b[1;36m0\u001b[0m\u001b[1;33m]\u001b[0m\u001b[1;33m,\u001b[0m \u001b[0mx\u001b[0m\u001b[1;33m[\u001b[0m\u001b[0my\u001b[0m\u001b[1;33m==\u001b[0m\u001b[1;36m1\u001b[0m\u001b[1;33m,\u001b[0m\u001b[1;36m1\u001b[0m\u001b[1;33m]\u001b[0m\u001b[1;33m,\u001b[0m \u001b[0mbins\u001b[0m\u001b[1;33m=\u001b[0m\u001b[1;36m10\u001b[0m\u001b[1;33m,\u001b[0m \u001b[0mdensity\u001b[0m\u001b[1;33m=\u001b[0m\u001b[1;32mTrue\u001b[0m\u001b[1;33m)\u001b[0m\u001b[1;33m\u001b[0m\u001b[1;33m\u001b[0m\u001b[0m\n\u001b[0;32m      9\u001b[0m \u001b[0mbins_x_0\u001b[0m\u001b[1;33m,\u001b[0m \u001b[0mbins_y_0\u001b[0m \u001b[1;33m=\u001b[0m \u001b[0mbinedges2center\u001b[0m\u001b[1;33m(\u001b[0m\u001b[0mbin_edges_x_0\u001b[0m\u001b[1;33m,\u001b[0m \u001b[0mbin_edges_y_0\u001b[0m\u001b[1;33m)\u001b[0m\u001b[1;33m\u001b[0m\u001b[1;33m\u001b[0m\u001b[0m\n",
      "\u001b[1;31mIndexError\u001b[0m: too many indices for array"
     ],
     "output_type": "error"
    }
   ],
   "source": [
    "def binedges2center(edges_x, edges_y):\n",
    "    xcenters = (edges_x[:-1] + edges_x[1:]) / 2.\n",
    "    ycenters = (edges_y[:-1] + edges_y[1:]) / 2.\n",
    "    return xcenters, ycenters\n",
    "\n",
    "\n",
    "hist_0, bin_edges_x_0, bin_edges_y_0 = np.histogram2d(x[y==0,0], x[y==0,1], bins=10, density=True)\n",
    "hist_1, bin_edges_x_1, bin_edges_y_1 = np.histogram2d(x[y==1,0], x[y==1,1], bins=10, density=True)\n",
    "bins_x_0, bins_y_0 = binedges2center(bin_edges_x_0, bin_edges_y_0)\n",
    "bins_x_1, bins_y_1 = binedges2center(bin_edges_x_1, bin_edges_y_1)\n",
    "\n",
    "\n",
    "fig, ax = plt.subplots(1, figsize=[7, 7])\n",
    "# min and max values in all directions\n",
    "vmax = max(np.abs(hist_0).max(), np.abs(hist_1).max())\n",
    "xmin = min(bin_edges_x_0.min(), bin_edges_x_1.min())\n",
    "xmax = max(bin_edges_x_0.max(), bin_edges_x_1.max())\n",
    "ymin = min(bin_edges_y_0.min(), bin_edges_y_1.min())\n",
    "ymax = max(bin_edges_y_0.max(), bin_edges_y_1.max())\n",
    "\n",
    "\n",
    "# interpolate for smoother density-like plot\n",
    "xi2 = np.linspace(xmin, xmax, 50)\n",
    "yi2 = np.linspace(ymin, ymax, 50)\n",
    "f = interp2d(bin_edges_x_0[:-1], bin_edges_y_0[:-1], hist_0, kind='cubic')\n",
    "hist_0_smooth = f(xi2, yi2)\n",
    "f = interp2d(bin_edges_x_1[:-1], bin_edges_y_1[:-1], hist_1, kind='cubic')\n",
    "hist_1_smooth = f(xi2, yi2)\n",
    "\n",
    "step = 0.0001\n",
    "levels = np.arange(0.0, vmax, step) + step\n",
    "\n",
    "cmap = plt.cm.Reds\n",
    "# proxy = [plt.Rectangle((0,0),1,1, fc=cmap(1)]\n",
    "ax.contourf(hist_0_smooth, cmap=cmap, alpha=0.5)\n",
    "\n",
    "ax.set_xlabel('$x_1$')\n",
    "ax.set_ylabel('$x_2$', rotation='horizontal')\n",
    "cmap = plt.cm.Blues                       \n",
    "# proxy.append(plt.Rectangle((0,0),1,1, fc=cmap(1)))\n",
    "ct = ax.contourf(hist_1_smooth, cmap=cmap, alpha=0.5)\n",
    "plt.grid()\n",
    "\n",
    "red_patch = mpatches.Patch(color='red', label='apples')\n",
    "blue_patch = mpatches.Patch(color='blue', label='oranges')\n",
    "plt.legend(handles=[red_patch, blue_patch])\n",
    "\n",
    "plt.show()"
   ]
  }
 ],
 "metadata": {
  "kernelspec": {
   "display_name": "Python 2",
   "language": "python",
   "name": "python2"
  },
  "language_info": {
   "codemirror_mode": {
    "name": "ipython",
    "version": 2
   },
   "file_extension": ".py",
   "mimetype": "text/x-python",
   "name": "python",
   "nbconvert_exporter": "python",
   "pygments_lexer": "ipython2",
   "version": "2.7.6"
  }
 },
 "nbformat": 4,
 "nbformat_minor": 0
}
